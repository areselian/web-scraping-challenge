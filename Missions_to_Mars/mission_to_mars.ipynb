{
 "cells": [
  {
   "cell_type": "code",
   "execution_count": 1,
   "metadata": {},
   "outputs": [],
   "source": [
    "# Dependencies\n",
    "\n",
    "from splinter import Browser\n",
    "from bs4 import BeautifulSoup as bs\n",
    "import requests\n",
    "import os\n",
    "import pandas as pd"
   ]
  },
  {
   "cell_type": "code",
   "execution_count": 2,
   "metadata": {},
   "outputs": [
    {
     "name": "stdout",
     "output_type": "stream",
     "text": [
      "/usr/local/bin/chromedriver\r\n"
     ]
    }
   ],
   "source": [
    "# https://splinter.readthedocs.io/en/latest/drivers/chrome.html\n",
    "!which chromedriver\n"
   ]
  },
  {
   "cell_type": "code",
   "execution_count": 3,
   "metadata": {},
   "outputs": [],
   "source": [
    "\n",
    "executable_path = {'executable_path': '/usr/local/bin/chromedriver'}\n",
    "browser = Browser(\"chrome\", **executable_path, headless = False)\n"
   ]
  },
  {
   "cell_type": "code",
   "execution_count": 4,
   "metadata": {},
   "outputs": [],
   "source": [
    "#Scrape the NASA Mars News Site and collect the latest News Title and Paragraph Text.\n",
    "#Assign the text to variables that you can reference later.\n",
    "\n",
    "# news_title = \"NASA's Treasure Map for Water Ice on Mars\"\n",
    "# news_p = \"A new study identifies frozen water just below the Martian surface, where astronauts could easily dig it up.\"\n",
    "\n",
    "url = 'https://mars.nasa.gov/news/'\n",
    "browser.visit(url)\n"
   ]
  },
  {
   "cell_type": "code",
   "execution_count": 5,
   "metadata": {},
   "outputs": [],
   "source": [
    "#Scrape Page Into Soup\n",
    "\n",
    "html = browser.html\n",
    "soup = bs(html, 'html.parser')"
   ]
  },
  {
   "cell_type": "code",
   "execution_count": 6,
   "metadata": {},
   "outputs": [],
   "source": [
    "\n",
    "# print(soup.prettify())"
   ]
  },
  {
   "cell_type": "markdown",
   "metadata": {},
   "source": [
    "# NASA Mars News"
   ]
  },
  {
   "cell_type": "code",
   "execution_count": 7,
   "metadata": {},
   "outputs": [
    {
     "name": "stdout",
     "output_type": "stream",
     "text": [
      "[<div class=\"content_title\">\n",
      "<a href=\"/news/8436/why-this-martian-full-moon-looks-like-candy/\">\n",
      "Why This Martian Full Moon Looks Like Candy\n",
      "</a>\n",
      "</div>, <div class=\"content_title\">\n",
      "<a href=\"/news/8426/nasa-garners-7-webby-award-nominations/\">\n",
      "NASA Garners 7 Webby Award Nominations\n",
      "</a>\n",
      "</div>, <div class=\"content_title\">\n",
      "<a href=\"/news/8413/nasas-opportunity-rover-mission-on-mars-comes-to-end/\">\n",
      "NASA's Opportunity Rover Mission on Mars Comes to End\n",
      "</a>\n",
      "</div>, <div class=\"content_title\">\n",
      "<a href=\"/news/8585/nasas-mars-2020-rover-closer-to-getting-its-name/\">\n",
      "NASA's Mars 2020 Rover Closer to Getting Its Name\n",
      "</a>\n",
      "</div>, <div class=\"content_title\">\n",
      "<a href=\"/news/8508/nasa-invites-students-to-name-mars-2020-rover/\">\n",
      "NASA Invites Students to Name Mars 2020 Rover\n",
      "</a>\n",
      "</div>, <div class=\"content_title\">\n",
      "<a href=\"/news/8442/nasas-curiosity-mars-rover-finds-a-clay-cache/\">\n",
      "NASA's Curiosity Mars Rover Finds a Clay Cache\n",
      "</a>\n",
      "</div>, <div class=\"content_title\">\n",
      "<a href=\"/news/8436/why-this-martian-full-moon-looks-like-candy/\">\n",
      "Why This Martian Full Moon Looks Like Candy\n",
      "</a>\n",
      "</div>, <div class=\"content_title\">\n",
      "<a href=\"/news/8426/nasa-garners-7-webby-award-nominations/\">\n",
      "NASA Garners 7 Webby Award Nominations\n",
      "</a>\n",
      "</div>, <div class=\"content_title\">\n",
      "<a href=\"/news/8413/nasas-opportunity-rover-mission-on-mars-comes-to-end/\">\n",
      "NASA's Opportunity Rover Mission on Mars Comes to End\n",
      "</a>\n",
      "</div>, <div class=\"content_title\">\n",
      "<a href=\"/news/8585/nasas-mars-2020-rover-closer-to-getting-its-name/\">\n",
      "NASA's Mars 2020 Rover Closer to Getting Its Name\n",
      "</a>\n",
      "</div>, <div class=\"content_title\">\n",
      "<a href=\"/news/8508/nasa-invites-students-to-name-mars-2020-rover/\">\n",
      "NASA Invites Students to Name Mars 2020 Rover\n",
      "</a>\n",
      "</div>, <div class=\"content_title\">\n",
      "<a href=\"/news/8442/nasas-curiosity-mars-rover-finds-a-clay-cache/\">\n",
      "NASA's Curiosity Mars Rover Finds a Clay Cache\n",
      "</a>\n",
      "</div>]\n"
     ]
    }
   ],
   "source": [
    "#scrape the headlines and get rid of white spaces\n",
    "news_titles = soup.find_all('div', class_= 'content_title')\n",
    "print(news_titles)"
   ]
  },
  {
   "cell_type": "code",
   "execution_count": 8,
   "metadata": {},
   "outputs": [
    {
     "name": "stdout",
     "output_type": "stream",
     "text": [
      "[<div class=\"mission_description rollover_description\"><div class=\"rollover_description_inner\">A mission to investigate key questions about potential life on Mars. </div><div class=\"overlay_arrow\"><img alt=\"More\" src=\"/assets/overlay-arrow.png\"/></div></div>, <div class=\"mission_description rollover_description\"><div class=\"rollover_description_inner\">The largest and most capable rover ever sent to Mars.</div><div class=\"overlay_arrow\"><img alt=\"More\" src=\"/assets/overlay-arrow.png\"/></div></div>, <div class=\"mission_description rollover_description\"><div class=\"rollover_description_inner\">A mission to study the deep interior of Mars. </div><div class=\"overlay_arrow\"><img alt=\"More\" src=\"/assets/overlay-arrow.png\"/></div></div>, <div class=\"mission_description rollover_description\"><div class=\"rollover_description_inner\">Measures Mars' atmosphere to understand its climate change.</div><div class=\"overlay_arrow\"><img alt=\"More\" src=\"/assets/overlay-arrow.png\"/></div></div>, <div class=\"mission_description rollover_description\"><div class=\"rollover_description_inner\">Takes high-resolution imagery of Martian terrain with extraordinary clarity. </div><div class=\"overlay_arrow\"><img alt=\"More\" src=\"/assets/overlay-arrow.png\"/></div></div>, <div class=\"mission_description rollover_description\"><div class=\"rollover_description_inner\">NASA's longest-lasting spacecraft at Mars. </div><div class=\"overlay_arrow\"><img alt=\"More\" src=\"/assets/overlay-arrow.png\"/></div></div>, <div class=\"rollover_description\">\n",
      "<div class=\"rollover_description_inner\">\n",
      "For the first time, NASA's Mars Odyssey orbiter has caught the Martian moon Phobos during a full moon phase. Each color in this new image represents a temperature range detected by Odyssey's infrared camera.\n",
      "</div>\n",
      "<div class=\"overlay_arrow\">\n",
      "<img alt=\"More\" src=\"/assets/overlay-arrow.png\"/>\n",
      "</div>\n",
      "</div>, <div class=\"rollover_description\">\n",
      "<div class=\"rollover_description_inner\">\n",
      "Nominees include four JPL projects: the solar system and climate websites, InSight social media, and a 360-degree Earth video. Public voting closes April 18, 2019.\n",
      "</div>\n",
      "<div class=\"overlay_arrow\">\n",
      "<img alt=\"More\" src=\"/assets/overlay-arrow.png\"/>\n",
      "</div>\n",
      "</div>, <div class=\"rollover_description\">\n",
      "<div class=\"rollover_description_inner\">\n",
      "NASA's Opportunity Mars rover mission is complete after 15 years on Mars. Opportunity's record-breaking exploration laid the groundwork for future missions to the Red Planet.\n",
      "</div>\n",
      "<div class=\"overlay_arrow\">\n",
      "<img alt=\"More\" src=\"/assets/overlay-arrow.png\"/>\n",
      "</div>\n",
      "</div>, <div class=\"rollover_description\">\n",
      "<div class=\"rollover_description_inner\">\n",
      "155 students from across the U.S. have been chosen as semifinalists in NASA's essay contest to name the Mars 2020 rover, and see it launch from Cape Canaveral this July.\n",
      "</div>\n",
      "<div class=\"overlay_arrow\">\n",
      "<img alt=\"More\" src=\"/assets/overlay-arrow.png\"/>\n",
      "</div>\n",
      "</div>, <div class=\"rollover_description\">\n",
      "<div class=\"rollover_description_inner\">\n",
      "Through Nov. 1, K-12 students in the U.S. are encouraged to enter an essay contest to name NASA's next Mars rover.\n",
      "</div>\n",
      "<div class=\"overlay_arrow\">\n",
      "<img alt=\"More\" src=\"/assets/overlay-arrow.png\"/>\n",
      "</div>\n",
      "</div>, <div class=\"rollover_description\">\n",
      "<div class=\"rollover_description_inner\">\n",
      "The rover recently drilled two samples, and both showed the highest levels of clay ever found during the mission.\n",
      "</div>\n",
      "<div class=\"overlay_arrow\">\n",
      "<img alt=\"More\" src=\"/assets/overlay-arrow.png\"/>\n",
      "</div>\n",
      "</div>, <div class=\"rollover_description\">\n",
      "<div class=\"rollover_description_inner\">\n",
      "For the first time, NASA's Mars Odyssey orbiter has caught the Martian moon Phobos during a full moon phase. Each color in this new image represents a temperature range detected by Odyssey's infrared camera.\n",
      "</div>\n",
      "<div class=\"overlay_arrow\">\n",
      "<img alt=\"More\" src=\"/assets/overlay-arrow.png\"/>\n",
      "</div>\n",
      "</div>, <div class=\"rollover_description\">\n",
      "<div class=\"rollover_description_inner\">\n",
      "Nominees include four JPL projects: the solar system and climate websites, InSight social media, and a 360-degree Earth video. Public voting closes April 18, 2019.\n",
      "</div>\n",
      "<div class=\"overlay_arrow\">\n",
      "<img alt=\"More\" src=\"/assets/overlay-arrow.png\"/>\n",
      "</div>\n",
      "</div>, <div class=\"rollover_description\">\n",
      "<div class=\"rollover_description_inner\">\n",
      "NASA's Opportunity Mars rover mission is complete after 15 years on Mars. Opportunity's record-breaking exploration laid the groundwork for future missions to the Red Planet.\n",
      "</div>\n",
      "<div class=\"overlay_arrow\">\n",
      "<img alt=\"More\" src=\"/assets/overlay-arrow.png\"/>\n",
      "</div>\n",
      "</div>, <div class=\"rollover_description\">\n",
      "<div class=\"rollover_description_inner\">\n",
      "155 students from across the U.S. have been chosen as semifinalists in NASA's essay contest to name the Mars 2020 rover, and see it launch from Cape Canaveral this July.\n",
      "</div>\n",
      "<div class=\"overlay_arrow\">\n",
      "<img alt=\"More\" src=\"/assets/overlay-arrow.png\"/>\n",
      "</div>\n",
      "</div>, <div class=\"rollover_description\">\n",
      "<div class=\"rollover_description_inner\">\n",
      "Through Nov. 1, K-12 students in the U.S. are encouraged to enter an essay contest to name NASA's next Mars rover.\n",
      "</div>\n",
      "<div class=\"overlay_arrow\">\n",
      "<img alt=\"More\" src=\"/assets/overlay-arrow.png\"/>\n",
      "</div>\n",
      "</div>, <div class=\"rollover_description\">\n",
      "<div class=\"rollover_description_inner\">\n",
      "The rover recently drilled two samples, and both showed the highest levels of clay ever found during the mission.\n",
      "</div>\n",
      "<div class=\"overlay_arrow\">\n",
      "<img alt=\"More\" src=\"/assets/overlay-arrow.png\"/>\n",
      "</div>\n",
      "</div>]\n"
     ]
    }
   ],
   "source": [
    "#scrape body from the website\n",
    "body = soup.find_all('div', class_=\"rollover_description\")\n",
    "print(body)"
   ]
  },
  {
   "cell_type": "code",
   "execution_count": 9,
   "metadata": {},
   "outputs": [
    {
     "name": "stdout",
     "output_type": "stream",
     "text": [
      "-------------\n",
      "\n",
      "Why This Martian Full Moon Looks Like Candy\n",
      "\n",
      "\n",
      "For the first time, NASA's Mars Odyssey orbiter has caught the Martian moon Phobos during a full moon phase. Each color in this new image represents a temperature range detected by Odyssey's infrared camera.\n",
      "\n",
      "-------------\n",
      "\n",
      "NASA Garners 7 Webby Award Nominations\n",
      "\n",
      "\n",
      "Nominees include four JPL projects: the solar system and climate websites, InSight social media, and a 360-degree Earth video. Public voting closes April 18, 2019.\n",
      "\n",
      "-------------\n",
      "\n",
      "NASA's Opportunity Rover Mission on Mars Comes to End\n",
      "\n",
      "\n",
      "NASA's Opportunity Mars rover mission is complete after 15 years on Mars. Opportunity's record-breaking exploration laid the groundwork for future missions to the Red Planet.\n",
      "\n",
      "-------------\n",
      "\n",
      "NASA's Mars 2020 Rover Closer to Getting Its Name\n",
      "\n",
      "\n",
      "155 students from across the U.S. have been chosen as semifinalists in NASA's essay contest to name the Mars 2020 rover, and see it launch from Cape Canaveral this July.\n",
      "\n",
      "-------------\n",
      "\n",
      "NASA Invites Students to Name Mars 2020 Rover\n",
      "\n",
      "\n",
      "Through Nov. 1, K-12 students in the U.S. are encouraged to enter an essay contest to name NASA's next Mars rover.\n",
      "\n",
      "-------------\n",
      "\n",
      "NASA's Curiosity Mars Rover Finds a Clay Cache\n",
      "\n",
      "\n",
      "The rover recently drilled two samples, and both showed the highest levels of clay ever found during the mission.\n",
      "\n",
      "-------------\n",
      "\n",
      "Why This Martian Full Moon Looks Like Candy\n",
      "\n",
      "\n",
      "For the first time, NASA's Mars Odyssey orbiter has caught the Martian moon Phobos during a full moon phase. Each color in this new image represents a temperature range detected by Odyssey's infrared camera.\n",
      "\n",
      "-------------\n",
      "\n",
      "NASA Garners 7 Webby Award Nominations\n",
      "\n",
      "\n",
      "Nominees include four JPL projects: the solar system and climate websites, InSight social media, and a 360-degree Earth video. Public voting closes April 18, 2019.\n",
      "\n",
      "-------------\n",
      "\n",
      "NASA's Opportunity Rover Mission on Mars Comes to End\n",
      "\n",
      "\n",
      "NASA's Opportunity Mars rover mission is complete after 15 years on Mars. Opportunity's record-breaking exploration laid the groundwork for future missions to the Red Planet.\n",
      "\n",
      "-------------\n",
      "\n",
      "NASA's Mars 2020 Rover Closer to Getting Its Name\n",
      "\n",
      "\n",
      "155 students from across the U.S. have been chosen as semifinalists in NASA's essay contest to name the Mars 2020 rover, and see it launch from Cape Canaveral this July.\n",
      "\n",
      "-------------\n",
      "\n",
      "NASA Invites Students to Name Mars 2020 Rover\n",
      "\n",
      "\n",
      "Through Nov. 1, K-12 students in the U.S. are encouraged to enter an essay contest to name NASA's next Mars rover.\n",
      "\n",
      "-------------\n",
      "\n",
      "NASA's Curiosity Mars Rover Finds a Clay Cache\n",
      "\n",
      "\n",
      "The rover recently drilled two samples, and both showed the highest levels of clay ever found during the mission.\n",
      "\n"
     ]
    }
   ],
   "source": [
    "#Save all the articles from the page\n",
    "results = soup.find_all('div', class_=\"slide\")\n",
    "for result in results:\n",
    "    news_titles = result.find('div', class_=\"content_title\")\n",
    "    news_title = news_titles.find('a').text\n",
    "    news_bodies = result.find('div', class_=\"rollover_description\")\n",
    "    news_body = news_bodies.find('div', class_=\"rollover_description_inner\").text\n",
    "    print('-------------')\n",
    "    print(news_title)\n",
    "    print(news_body)"
   ]
  },
  {
   "cell_type": "markdown",
   "metadata": {},
   "source": [
    "# JPL Mars Space Images - Featured Image"
   ]
  },
  {
   "cell_type": "code",
   "execution_count": 10,
   "metadata": {},
   "outputs": [],
   "source": [
    "url = 'https://www.jpl.nasa.gov/spaceimages/?search=&category=Mars'\n",
    "response = requests.get(url)\n",
    "soup = bs(response.text, 'html.parser')"
   ]
  },
  {
   "cell_type": "code",
   "execution_count": 11,
   "metadata": {},
   "outputs": [],
   "source": [
    "# print(soup.prettify())"
   ]
  },
  {
   "cell_type": "code",
   "execution_count": 12,
   "metadata": {},
   "outputs": [],
   "source": [
    "#pull images from website\n",
    "images = soup.find_all('a', class_=\"fancybox\")"
   ]
  },
  {
   "cell_type": "code",
   "execution_count": 13,
   "metadata": {},
   "outputs": [
    {
     "data": {
      "text/plain": [
       "'https://www.jpl.nasa.gov/spaceimages/images/largesize/PIA23627_hires.jpg'"
      ]
     },
     "execution_count": 13,
     "metadata": {},
     "output_type": "execute_result"
    }
   ],
   "source": [
    "#pull image link\n",
    "\n",
    "img_src = []\n",
    "\n",
    "for image in images:\n",
    "    img = image['data-fancybox-href']\n",
    "    img_src.append(img)\n",
    "\n",
    "img_url = \"https://www.jpl.nasa.gov\" + img\n",
    "img_url"
   ]
  },
  {
   "cell_type": "markdown",
   "metadata": {},
   "source": [
    "# Mars Weather"
   ]
  },
  {
   "cell_type": "code",
   "execution_count": 14,
   "metadata": {},
   "outputs": [],
   "source": [
    "url = 'https://twitter.com/marswxreport?lang=en'\n",
    "response = requests.get(url)\n",
    "soup = bs(response.text, 'html.parser')"
   ]
  },
  {
   "cell_type": "code",
   "execution_count": 15,
   "metadata": {},
   "outputs": [],
   "source": [
    "# print(soup.prettify())"
   ]
  },
  {
   "cell_type": "code",
   "execution_count": 16,
   "metadata": {},
   "outputs": [],
   "source": [
    "contents = soup.find_all(\"div\", class_=\"content\")"
   ]
  },
  {
   "cell_type": "code",
   "execution_count": 17,
   "metadata": {},
   "outputs": [
    {
     "name": "stdout",
     "output_type": "stream",
     "text": [
      "['\\nHappy 150th Birthday to the National Weather Service. Ready to open Mars offices when you are. Should have the Jezero crater site up and running this time next year. #Mars2020\\nhttps://vlab.ncep.noaa.gov/web/nws-heritage\\xa0…pic.twitter.com/UeAu31btC8\\n', '\\nAs the @nasa @esa Solar Orbiter Mission prepares for a 11:03 p.m. EST launch tonight, a look at the missions that sought to unlock the mysteries of the Sun and space weather.  Watch live on NASA TV https://www.nasa.gov/multimedia/nasatv\\xa0…pic.twitter.com/euTFic5y8B\\n', '\\nInSight sol 427 (2020-02-07) low -91.7ºC (-133.0ºF) high -9.8ºC (14.4ºF)\\nwinds from the WNW at 6.0 m/s (13.5 mph) gusting to 25.0 m/s (56.0 mph)\\npressure at 6.30 hPapic.twitter.com/4pin45x1Xl\\n', '\\nInSight sol 426 (2020-02-06) low -91.6ºC (-133.0ºF) high -9.1ºC (15.7ºF)\\nwinds from the WNW at 5.5 m/s (12.3 mph) gusting to 22.6 m/s (50.5 mph)\\npressure at 6.30 hPapic.twitter.com/oj77EqCqa8\\n', '\\nLIVE NOW: Are you ready for some Sun science? \\n#SolarOrbiter, an @ESA & NASA collaboration, is set for launch this SUNday Feb. 9. Tune in to learn about this first-of-its-kind mission and ask ?s using #AskNASAhttps://twitter.com/i/broadcasts/1OyKAYwVpegKb\\xa0…\\n', '\\nInSight sol 425 (2020-02-06) low -90.6ºC (-131.1ºF) high -11.1ºC (12.0ºF)\\nwinds from the SSE at 5.6 m/s (12.6 mph) gusting to 21.3 m/s (47.5 mph)\\npressure at 6.30 hPapic.twitter.com/DkXWyPraHm\\n', '\\nInSight sol 424 (2020-02-04) low -91.9ºC (-133.4ºF) high -12.7ºC (9.2ºF)\\nwinds from the SSE at 5.7 m/s (12.7 mph) gusting to 22.9 m/s (51.1 mph)\\npressure at 6.30 hPapic.twitter.com/5ZDAs69FQM\\n', '\\nLook I know today is terrible but this video of the Mars 2020 team wrapping the rover up today will help. Sound on.pic.twitter.com/567DdGrciJ\\n', '\\nHappy #weatherpersonsday from @NASAInSight, hope its a bit warmer were you are!\\n\\nSol 424 (2020-02-05) low -91.9ºC (-133.4ºF) high -12.7ºC (9.2ºF) winds from the SSE at 5.7 m/s (12.7 mph) gusting to 22.9 m/s (51.1 mph) pressure at 6.30 hPa\\n\\n https://www.weather.gov/cae/NationalWeatherpersonsDay\\xa0…pic.twitter.com/2HyyTEl2lF\\n', '\\nInSight sol 423 (2020-02-03) low -92.2ºC (-133.9ºF) high -9.9ºC (14.2ºF)\\nwinds from the S at 4.6 m/s (10.2 mph) gusting to 20.5 m/s (45.8 mph)\\npressure at 6.30 hPapic.twitter.com/hopiuFQq09\\n', '\\nInSight sol 422 (2020-02-03) low -90.2ºC (-130.3ºF) high -13.1ºC (8.5ºF)\\nwinds from the SSE at 6.1 m/s (13.5 mph) gusting to 22.1 m/s (49.4 mph)\\npressure at 6.20 hPapic.twitter.com/1wkFjO578P\\n', '\\nInSight sol 421 (2020-02-02) low -93.1ºC (-135.6ºF) high -13.8ºC (7.2ºF)\\nwinds from the SSE at 5.6 m/s (12.5 mph) gusting to 21.0 m/s (46.9 mph)\\npressure at 6.30 hPapic.twitter.com/zgieOlktxs\\n', '\\nInSight sol 420 (2020-01-31) low -93.7ºC (-136.7ºF) high -13.7ºC (7.3ºF)\\nwinds from the W at 4.8 m/s (10.7 mph) gusting to 18.5 m/s (41.4 mph)\\npressure at 6.30 hPapic.twitter.com/O7nsoUgHFW\\n', '\\nInSight sol 419 (2020-01-31) low -96.1ºC (-141.0ºF) high -12.5ºC (9.5ºF)\\nwinds from the SW at 5.1 m/s (11.4 mph) gusting to 20.2 m/s (45.2 mph)\\npressure at 6.30 hPapic.twitter.com/9CchnlLc0h\\n', '\\nThe seasonal cycle of Mars’ atmospheric pressure explained https://phys.org/news/2020-01-mystery-mars-pole.html\\xa0…pic.twitter.com/bQMlALLa7Y\\n', '\\nThe seasonal cycle of Mars’ atmospheric pressure explained https://phys.org/news/2020-01-mystery-mars-pole.html\\xa0…pic.twitter.com/bQMlALLa7Y\\n', '\\nInSight sol 418 (2020-01-30) low -94.1ºC (-137.3ºF) high -15.6ºC (4.0ºF)\\nwinds from the SSW at 5.2 m/s (11.5 mph) gusting to 19.2 m/s (42.9 mph)\\npressure at 6.30 hPapic.twitter.com/t5iyYC2slx\\n', '\\nInSight sol 417 (2020-01-28) low -94.0ºC (-137.3ºF) high -15.3ºC (4.4ºF)\\nwinds from the W at 4.6 m/s (10.2 mph) gusting to 17.3 m/s (38.7 mph)\\npressure at 6.30 hPapic.twitter.com/c21AvT6pVM\\n', \"\\nThis is the most detailed view of the Sun’s turbulent surface, from the @NSF's Daniel K. Inouye Solar Telescope. Each of these convection, the source of space weather, is the size of Texas. http://www.hawaii.edu/news/2020/01/29/first-light-inouye-solar-telescope/\\xa0…pic.twitter.com/h8CN6V9hwU\\n\", '\\nInSight sol 416 (2020-01-27) low -93.9ºC (-137.1ºF) high -14.5ºC (5.9ºF)\\nwinds from the S at 4.7 m/s (10.4 mph) gusting to 20.2 m/s (45.1 mph)\\npressure at 6.30 hPapic.twitter.com/6B0QCzZNWE\\n']\n"
     ]
    }
   ],
   "source": [
    "weather_mars = []\n",
    "for content in contents:\n",
    "    tweet = content.find('div', class_= \"js-tweet-text-container\").text\n",
    "    weather_mars.append(tweet)\n",
    "    \n",
    "print(weather_mars)"
   ]
  },
  {
   "cell_type": "code",
   "execution_count": 18,
   "metadata": {},
   "outputs": [
    {
     "name": "stdout",
     "output_type": "stream",
     "text": [
      "\n",
      "Happy #weatherpersonsday from @NASAInSight, hope its a bit warmer were you are!\n",
      "\n",
      "Sol 424 (2020-02-05) low -91.9ºC (-133.4ºF) high -12.7ºC (9.2ºF) winds from the SSE at 5.7 m/s (12.7 mph) gusting to 22.9 m/s (51.1 mph) pressure at 6.30 hPa\n",
      "\n",
      " https://www.weather.gov/cae/NationalWeatherpersonsDay …pic.twitter.com/2HyyTEl2lF\n",
      "\n"
     ]
    }
   ],
   "source": [
    "mars_weather = weather_mars[8]\n",
    "print(mars_weather)"
   ]
  },
  {
   "cell_type": "markdown",
   "metadata": {},
   "source": [
    "# Mars Facts"
   ]
  },
  {
   "cell_type": "code",
   "execution_count": 19,
   "metadata": {},
   "outputs": [
    {
     "data": {
      "text/html": [
       "<div>\n",
       "<style scoped>\n",
       "    .dataframe tbody tr th:only-of-type {\n",
       "        vertical-align: middle;\n",
       "    }\n",
       "\n",
       "    .dataframe tbody tr th {\n",
       "        vertical-align: top;\n",
       "    }\n",
       "\n",
       "    .dataframe thead th {\n",
       "        text-align: right;\n",
       "    }\n",
       "</style>\n",
       "<table border=\"1\" class=\"dataframe\">\n",
       "  <thead>\n",
       "    <tr style=\"text-align: right;\">\n",
       "      <th></th>\n",
       "      <th>0</th>\n",
       "      <th>1</th>\n",
       "    </tr>\n",
       "  </thead>\n",
       "  <tbody>\n",
       "    <tr>\n",
       "      <th>0</th>\n",
       "      <td>Equatorial Diameter:</td>\n",
       "      <td>6,792 km</td>\n",
       "    </tr>\n",
       "    <tr>\n",
       "      <th>1</th>\n",
       "      <td>Polar Diameter:</td>\n",
       "      <td>6,752 km</td>\n",
       "    </tr>\n",
       "    <tr>\n",
       "      <th>2</th>\n",
       "      <td>Mass:</td>\n",
       "      <td>6.39 × 10^23 kg (0.11 Earths)</td>\n",
       "    </tr>\n",
       "    <tr>\n",
       "      <th>3</th>\n",
       "      <td>Moons:</td>\n",
       "      <td>2 (Phobos &amp; Deimos)</td>\n",
       "    </tr>\n",
       "    <tr>\n",
       "      <th>4</th>\n",
       "      <td>Orbit Distance:</td>\n",
       "      <td>227,943,824 km (1.38 AU)</td>\n",
       "    </tr>\n",
       "    <tr>\n",
       "      <th>5</th>\n",
       "      <td>Orbit Period:</td>\n",
       "      <td>687 days (1.9 years)</td>\n",
       "    </tr>\n",
       "    <tr>\n",
       "      <th>6</th>\n",
       "      <td>Surface Temperature:</td>\n",
       "      <td>-87 to -5 °C</td>\n",
       "    </tr>\n",
       "    <tr>\n",
       "      <th>7</th>\n",
       "      <td>First Record:</td>\n",
       "      <td>2nd millennium BC</td>\n",
       "    </tr>\n",
       "    <tr>\n",
       "      <th>8</th>\n",
       "      <td>Recorded By:</td>\n",
       "      <td>Egyptian astronomers</td>\n",
       "    </tr>\n",
       "  </tbody>\n",
       "</table>\n",
       "</div>"
      ],
      "text/plain": [
       "                      0                              1\n",
       "0  Equatorial Diameter:                       6,792 km\n",
       "1       Polar Diameter:                       6,752 km\n",
       "2                 Mass:  6.39 × 10^23 kg (0.11 Earths)\n",
       "3                Moons:            2 (Phobos & Deimos)\n",
       "4       Orbit Distance:       227,943,824 km (1.38 AU)\n",
       "5         Orbit Period:           687 days (1.9 years)\n",
       "6  Surface Temperature:                   -87 to -5 °C\n",
       "7         First Record:              2nd millennium BC\n",
       "8          Recorded By:           Egyptian astronomers"
      ]
     },
     "execution_count": 19,
     "metadata": {},
     "output_type": "execute_result"
    }
   ],
   "source": [
    "mars_facts_url = 'https://space-facts.com/mars/'\n",
    "table = pd.read_html(mars_facts_url)\n",
    "table[0]"
   ]
  },
  {
   "cell_type": "code",
   "execution_count": 20,
   "metadata": {},
   "outputs": [
    {
     "data": {
      "text/html": [
       "<div>\n",
       "<style scoped>\n",
       "    .dataframe tbody tr th:only-of-type {\n",
       "        vertical-align: middle;\n",
       "    }\n",
       "\n",
       "    .dataframe tbody tr th {\n",
       "        vertical-align: top;\n",
       "    }\n",
       "\n",
       "    .dataframe thead th {\n",
       "        text-align: right;\n",
       "    }\n",
       "</style>\n",
       "<table border=\"1\" class=\"dataframe\">\n",
       "  <thead>\n",
       "    <tr style=\"text-align: right;\">\n",
       "      <th></th>\n",
       "      <th>Facts</th>\n",
       "      <th>Value</th>\n",
       "    </tr>\n",
       "  </thead>\n",
       "  <tbody>\n",
       "    <tr>\n",
       "      <th>0</th>\n",
       "      <td>Equatorial Diameter:</td>\n",
       "      <td>6,792 km</td>\n",
       "    </tr>\n",
       "    <tr>\n",
       "      <th>1</th>\n",
       "      <td>Polar Diameter:</td>\n",
       "      <td>6,752 km</td>\n",
       "    </tr>\n",
       "    <tr>\n",
       "      <th>2</th>\n",
       "      <td>Mass:</td>\n",
       "      <td>6.39 × 10^23 kg (0.11 Earths)</td>\n",
       "    </tr>\n",
       "    <tr>\n",
       "      <th>3</th>\n",
       "      <td>Moons:</td>\n",
       "      <td>2 (Phobos &amp; Deimos)</td>\n",
       "    </tr>\n",
       "    <tr>\n",
       "      <th>4</th>\n",
       "      <td>Orbit Distance:</td>\n",
       "      <td>227,943,824 km (1.38 AU)</td>\n",
       "    </tr>\n",
       "    <tr>\n",
       "      <th>5</th>\n",
       "      <td>Orbit Period:</td>\n",
       "      <td>687 days (1.9 years)</td>\n",
       "    </tr>\n",
       "    <tr>\n",
       "      <th>6</th>\n",
       "      <td>Surface Temperature:</td>\n",
       "      <td>-87 to -5 °C</td>\n",
       "    </tr>\n",
       "    <tr>\n",
       "      <th>7</th>\n",
       "      <td>First Record:</td>\n",
       "      <td>2nd millennium BC</td>\n",
       "    </tr>\n",
       "    <tr>\n",
       "      <th>8</th>\n",
       "      <td>Recorded By:</td>\n",
       "      <td>Egyptian astronomers</td>\n",
       "    </tr>\n",
       "  </tbody>\n",
       "</table>\n",
       "</div>"
      ],
      "text/plain": [
       "                  Facts                          Value\n",
       "0  Equatorial Diameter:                       6,792 km\n",
       "1       Polar Diameter:                       6,752 km\n",
       "2                 Mass:  6.39 × 10^23 kg (0.11 Earths)\n",
       "3                Moons:            2 (Phobos & Deimos)\n",
       "4       Orbit Distance:       227,943,824 km (1.38 AU)\n",
       "5         Orbit Period:           687 days (1.9 years)\n",
       "6  Surface Temperature:                   -87 to -5 °C\n",
       "7         First Record:              2nd millennium BC\n",
       "8          Recorded By:           Egyptian astronomers"
      ]
     },
     "execution_count": 20,
     "metadata": {},
     "output_type": "execute_result"
    }
   ],
   "source": [
    "df = table[0]\n",
    "df.columns = [\"Facts\", \"Value\"]\n",
    "df.set_index([\"Facts\"])\n",
    "df"
   ]
  },
  {
   "cell_type": "code",
   "execution_count": 21,
   "metadata": {},
   "outputs": [
    {
     "data": {
      "text/plain": [
       "'<table border=\"1\" class=\"dataframe\">  <thead>    <tr style=\"text-align: right;\">      <th></th>      <th>Facts</th>      <th>Value</th>    </tr>  </thead>  <tbody>    <tr>      <th>0</th>      <td>Equatorial Diameter:</td>      <td>6,792 km</td>    </tr>    <tr>      <th>1</th>      <td>Polar Diameter:</td>      <td>6,752 km</td>    </tr>    <tr>      <th>2</th>      <td>Mass:</td>      <td>6.39 × 10^23 kg (0.11 Earths)</td>    </tr>    <tr>      <th>3</th>      <td>Moons:</td>      <td>2 (Phobos &amp; Deimos)</td>    </tr>    <tr>      <th>4</th>      <td>Orbit Distance:</td>      <td>227,943,824 km (1.38 AU)</td>    </tr>    <tr>      <th>5</th>      <td>Orbit Period:</td>      <td>687 days (1.9 years)</td>    </tr>    <tr>      <th>6</th>      <td>Surface Temperature:</td>      <td>-87 to -5 °C</td>    </tr>    <tr>      <th>7</th>      <td>First Record:</td>      <td>2nd millennium BC</td>    </tr>    <tr>      <th>8</th>      <td>Recorded By:</td>      <td>Egyptian astronomers</td>    </tr>  </tbody></table>'"
      ]
     },
     "execution_count": 21,
     "metadata": {},
     "output_type": "execute_result"
    }
   ],
   "source": [
    "facts_html = df.to_html()\n",
    "facts_html = facts_html.replace(\"\\n\",\"\")\n",
    "facts_html"
   ]
  },
  {
   "cell_type": "markdown",
   "metadata": {},
   "source": [
    "# Mars Hemispheres"
   ]
  },
  {
   "cell_type": "code",
   "execution_count": 22,
   "metadata": {},
   "outputs": [],
   "source": [
    "hemisphere_img_urls = []"
   ]
  },
  {
   "cell_type": "code",
   "execution_count": 23,
   "metadata": {},
   "outputs": [],
   "source": [
    "#Cerberus Hemispheres\n",
    "\n",
    "url = 'https://astropedia.astrogeology.usgs.gov/download/Mars/Viking/cerberus_enhanced.tif'\n",
    "\n",
    "response = requests.get(url)\n",
    "soup = bs(response.text, 'html.parser')\n",
    "\n",
    "\n"
   ]
  },
  {
   "cell_type": "code",
   "execution_count": 24,
   "metadata": {},
   "outputs": [
    {
     "name": "stderr",
     "output_type": "stream",
     "text": [
      "IOPub data rate exceeded.\n",
      "The notebook server will temporarily stop sending output\n",
      "to the client in order to avoid crashing it.\n",
      "To change this limit, set the config variable\n",
      "`--NotebookApp.iopub_data_rate_limit`.\n",
      "\n",
      "Current values:\n",
      "NotebookApp.iopub_data_rate_limit=1000000.0 (bytes/sec)\n",
      "NotebookApp.rate_limit_window=3.0 (secs)\n",
      "\n"
     ]
    }
   ],
   "source": [
    "print(soup.prettify())"
   ]
  },
  {
   "cell_type": "code",
   "execution_count": 25,
   "metadata": {},
   "outputs": [
    {
     "name": "stdout",
     "output_type": "stream",
     "text": [
      "[]\n"
     ]
    }
   ],
   "source": [
    "cerberus_img = soup.find_all('div', class_='wide-image-wrapper')\n",
    "print(cerberus_img)"
   ]
  },
  {
   "cell_type": "code",
   "execution_count": null,
   "metadata": {},
   "outputs": [],
   "source": []
  }
 ],
 "metadata": {
  "kernelspec": {
   "display_name": "Python 3",
   "language": "python",
   "name": "python3"
  },
  "language_info": {
   "codemirror_mode": {
    "name": "ipython",
    "version": 3
   },
   "file_extension": ".py",
   "mimetype": "text/x-python",
   "name": "python",
   "nbconvert_exporter": "python",
   "pygments_lexer": "ipython3",
   "version": "3.7.3"
  }
 },
 "nbformat": 4,
 "nbformat_minor": 2
}
